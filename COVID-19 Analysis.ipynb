{
 "cells": [
  {
   "cell_type": "markdown",
   "metadata": {},
   "source": [
    "### Import Libraries and Read Data"
   ]
  },
  {
   "cell_type": "code",
   "execution_count": 1,
   "metadata": {},
   "outputs": [],
   "source": [
    "## Import Libraries\n",
    "import numpy as np\n",
    "import pandas as pd\n",
    "import matplotlib.pyplot as plt"
   ]
  },
  {
   "cell_type": "code",
   "execution_count": 2,
   "metadata": {},
   "outputs": [],
   "source": [
    "%matplotlib inline\n",
    "plt.rcParams['figure.figsize'] = [15, 8]\n",
    "pd.plotting.register_matplotlib_converters()\n",
    "plt.style.use('seaborn-dark')"
   ]
  },
  {
   "cell_type": "code",
   "execution_count": 3,
   "metadata": {},
   "outputs": [],
   "source": [
    "## Read Data for Cases, Deaths and Recoveries\n",
    "confirmed_cases_raw = pd.read_csv(\n",
    "    'https://raw.githubusercontent.com/CSSEGISandData/COVID-19/master/csse_covid_19_data/csse_covid_19_time_series/time_series_covid19_confirmed_global.csv')\n",
    "deaths_raw = pd.read_csv(\n",
    "    'https://raw.githubusercontent.com/CSSEGISandData/COVID-19/master/csse_covid_19_data/csse_covid_19_time_series/time_series_covid19_deaths_global.csv')\n",
    "recoveries_raw = pd.read_csv(\n",
    "    'https://raw.githubusercontent.com/CSSEGISandData/COVID-19/master/csse_covid_19_data/csse_covid_19_time_series/time_series_covid19_recovered_global.csv')\n"
   ]
  },
  {
   "cell_type": "code",
   "execution_count": 4,
   "metadata": {},
   "outputs": [
    {
     "data": {
      "text/html": [
       "<div>\n",
       "<style scoped>\n",
       "    .dataframe tbody tr th:only-of-type {\n",
       "        vertical-align: middle;\n",
       "    }\n",
       "\n",
       "    .dataframe tbody tr th {\n",
       "        vertical-align: top;\n",
       "    }\n",
       "\n",
       "    .dataframe thead th {\n",
       "        text-align: right;\n",
       "    }\n",
       "</style>\n",
       "<table border=\"1\" class=\"dataframe\">\n",
       "  <thead>\n",
       "    <tr style=\"text-align: right;\">\n",
       "      <th></th>\n",
       "      <th>Province/State</th>\n",
       "      <th>Country/Region</th>\n",
       "      <th>Lat</th>\n",
       "      <th>Long</th>\n",
       "      <th>1/22/20</th>\n",
       "      <th>1/23/20</th>\n",
       "      <th>1/24/20</th>\n",
       "      <th>1/25/20</th>\n",
       "      <th>1/26/20</th>\n",
       "      <th>1/27/20</th>\n",
       "      <th>...</th>\n",
       "      <th>3/22/20</th>\n",
       "      <th>3/23/20</th>\n",
       "      <th>3/24/20</th>\n",
       "      <th>3/25/20</th>\n",
       "      <th>3/26/20</th>\n",
       "      <th>3/27/20</th>\n",
       "      <th>3/28/20</th>\n",
       "      <th>3/29/20</th>\n",
       "      <th>3/30/20</th>\n",
       "      <th>3/31/20</th>\n",
       "    </tr>\n",
       "  </thead>\n",
       "  <tbody>\n",
       "    <tr>\n",
       "      <th>0</th>\n",
       "      <td>NaN</td>\n",
       "      <td>Afghanistan</td>\n",
       "      <td>33.0000</td>\n",
       "      <td>65.0000</td>\n",
       "      <td>0</td>\n",
       "      <td>0</td>\n",
       "      <td>0</td>\n",
       "      <td>0</td>\n",
       "      <td>0</td>\n",
       "      <td>0</td>\n",
       "      <td>...</td>\n",
       "      <td>40</td>\n",
       "      <td>40</td>\n",
       "      <td>74</td>\n",
       "      <td>84</td>\n",
       "      <td>94</td>\n",
       "      <td>110</td>\n",
       "      <td>110</td>\n",
       "      <td>120</td>\n",
       "      <td>170</td>\n",
       "      <td>174</td>\n",
       "    </tr>\n",
       "    <tr>\n",
       "      <th>1</th>\n",
       "      <td>NaN</td>\n",
       "      <td>Albania</td>\n",
       "      <td>41.1533</td>\n",
       "      <td>20.1683</td>\n",
       "      <td>0</td>\n",
       "      <td>0</td>\n",
       "      <td>0</td>\n",
       "      <td>0</td>\n",
       "      <td>0</td>\n",
       "      <td>0</td>\n",
       "      <td>...</td>\n",
       "      <td>89</td>\n",
       "      <td>104</td>\n",
       "      <td>123</td>\n",
       "      <td>146</td>\n",
       "      <td>174</td>\n",
       "      <td>186</td>\n",
       "      <td>197</td>\n",
       "      <td>212</td>\n",
       "      <td>223</td>\n",
       "      <td>243</td>\n",
       "    </tr>\n",
       "    <tr>\n",
       "      <th>2</th>\n",
       "      <td>NaN</td>\n",
       "      <td>Algeria</td>\n",
       "      <td>28.0339</td>\n",
       "      <td>1.6596</td>\n",
       "      <td>0</td>\n",
       "      <td>0</td>\n",
       "      <td>0</td>\n",
       "      <td>0</td>\n",
       "      <td>0</td>\n",
       "      <td>0</td>\n",
       "      <td>...</td>\n",
       "      <td>201</td>\n",
       "      <td>230</td>\n",
       "      <td>264</td>\n",
       "      <td>302</td>\n",
       "      <td>367</td>\n",
       "      <td>409</td>\n",
       "      <td>454</td>\n",
       "      <td>511</td>\n",
       "      <td>584</td>\n",
       "      <td>716</td>\n",
       "    </tr>\n",
       "    <tr>\n",
       "      <th>3</th>\n",
       "      <td>NaN</td>\n",
       "      <td>Andorra</td>\n",
       "      <td>42.5063</td>\n",
       "      <td>1.5218</td>\n",
       "      <td>0</td>\n",
       "      <td>0</td>\n",
       "      <td>0</td>\n",
       "      <td>0</td>\n",
       "      <td>0</td>\n",
       "      <td>0</td>\n",
       "      <td>...</td>\n",
       "      <td>113</td>\n",
       "      <td>133</td>\n",
       "      <td>164</td>\n",
       "      <td>188</td>\n",
       "      <td>224</td>\n",
       "      <td>267</td>\n",
       "      <td>308</td>\n",
       "      <td>334</td>\n",
       "      <td>370</td>\n",
       "      <td>376</td>\n",
       "    </tr>\n",
       "    <tr>\n",
       "      <th>4</th>\n",
       "      <td>NaN</td>\n",
       "      <td>Angola</td>\n",
       "      <td>-11.2027</td>\n",
       "      <td>17.8739</td>\n",
       "      <td>0</td>\n",
       "      <td>0</td>\n",
       "      <td>0</td>\n",
       "      <td>0</td>\n",
       "      <td>0</td>\n",
       "      <td>0</td>\n",
       "      <td>...</td>\n",
       "      <td>2</td>\n",
       "      <td>3</td>\n",
       "      <td>3</td>\n",
       "      <td>3</td>\n",
       "      <td>4</td>\n",
       "      <td>4</td>\n",
       "      <td>5</td>\n",
       "      <td>7</td>\n",
       "      <td>7</td>\n",
       "      <td>7</td>\n",
       "    </tr>\n",
       "  </tbody>\n",
       "</table>\n",
       "<p>5 rows × 74 columns</p>\n",
       "</div>"
      ],
      "text/plain": [
       "  Province/State Country/Region      Lat     Long  1/22/20  1/23/20  1/24/20  \\\n",
       "0            NaN    Afghanistan  33.0000  65.0000        0        0        0   \n",
       "1            NaN        Albania  41.1533  20.1683        0        0        0   \n",
       "2            NaN        Algeria  28.0339   1.6596        0        0        0   \n",
       "3            NaN        Andorra  42.5063   1.5218        0        0        0   \n",
       "4            NaN         Angola -11.2027  17.8739        0        0        0   \n",
       "\n",
       "   1/25/20  1/26/20  1/27/20  ...  3/22/20  3/23/20  3/24/20  3/25/20  \\\n",
       "0        0        0        0  ...       40       40       74       84   \n",
       "1        0        0        0  ...       89      104      123      146   \n",
       "2        0        0        0  ...      201      230      264      302   \n",
       "3        0        0        0  ...      113      133      164      188   \n",
       "4        0        0        0  ...        2        3        3        3   \n",
       "\n",
       "   3/26/20  3/27/20  3/28/20  3/29/20  3/30/20  3/31/20  \n",
       "0       94      110      110      120      170      174  \n",
       "1      174      186      197      212      223      243  \n",
       "2      367      409      454      511      584      716  \n",
       "3      224      267      308      334      370      376  \n",
       "4        4        4        5        7        7        7  \n",
       "\n",
       "[5 rows x 74 columns]"
      ]
     },
     "execution_count": 4,
     "metadata": {},
     "output_type": "execute_result"
    }
   ],
   "source": [
    "confirmed_cases_raw.head()"
   ]
  },
  {
   "cell_type": "code",
   "execution_count": 5,
   "metadata": {},
   "outputs": [],
   "source": [
    "### Melt the dateframe into the right shape and set index\n",
    "def melt_data(df_raw, drop_country=None):\n",
    "    df_cleaned = df_raw.melt(id_vars=['Province/State', 'Country/Region', 'Lat', 'Long'], value_name='Cases',\n",
    "                             var_name='Date')\n",
    "    df_cleaned = df_cleaned.set_index(['Country/Region', 'Province/State', 'Date'])\n",
    "    if drop_country:\n",
    "        df_cleaned.drop(drop_country, level=0, inplace=True)\n",
    "    return df_cleaned\n",
    "\n",
    "\n",
    "### Get Country-wise Data\n",
    "def country_wise(df_cleaned, oldname, newname):\n",
    "    df_country = df_cleaned.groupby(['Country/Region', 'Date'])['Cases'].sum().reset_index()\n",
    "    df_country = df_country.set_index(['Country/Region', 'Date'])\n",
    "    df_country.index = df_country.index.set_levels(\n",
    "        [df_country.index.levels[0], pd.to_datetime(df_country.index.levels[1])])\n",
    "    df_country = df_country.sort_values(['Country/Region', 'Date'], ascending=True)\n",
    "    df_country = df_country.rename(columns={oldname: newname})\n",
    "    return df_country\n",
    "\n",
    "\n",
    "### Get DailyData from Cumulative sum\n",
    "def dailydata(dfcountry, oldname, newname):\n",
    "    dfcountrydaily = dfcountry.groupby(level=0).diff().fillna(0)\n",
    "    dfcountrydaily = dfcountrydaily.rename(columns={oldname: newname})\n",
    "    return dfcountrydaily"
   ]
  },
  {
   "cell_type": "code",
   "execution_count": 6,
   "metadata": {},
   "outputs": [],
   "source": [
    "# Clean all datasets\n",
    "confirmed_cases = melt_data(confirmed_cases_raw, ['China', 'Mainland China'])\n",
    "deaths = melt_data(deaths_raw, ['China', 'Mainland China'])\n",
    "recoveries = melt_data(recoveries_raw, ['China', 'Mainland China'])"
   ]
  },
  {
   "cell_type": "code",
   "execution_count": 7,
   "metadata": {},
   "outputs": [
    {
     "data": {
      "text/html": [
       "<div>\n",
       "<style scoped>\n",
       "    .dataframe tbody tr th:only-of-type {\n",
       "        vertical-align: middle;\n",
       "    }\n",
       "\n",
       "    .dataframe tbody tr th {\n",
       "        vertical-align: top;\n",
       "    }\n",
       "\n",
       "    .dataframe thead th {\n",
       "        text-align: right;\n",
       "    }\n",
       "</style>\n",
       "<table border=\"1\" class=\"dataframe\">\n",
       "  <thead>\n",
       "    <tr style=\"text-align: right;\">\n",
       "      <th></th>\n",
       "      <th></th>\n",
       "      <th></th>\n",
       "      <th>Lat</th>\n",
       "      <th>Long</th>\n",
       "      <th>Cases</th>\n",
       "    </tr>\n",
       "    <tr>\n",
       "      <th>Country/Region</th>\n",
       "      <th>Province/State</th>\n",
       "      <th>Date</th>\n",
       "      <th></th>\n",
       "      <th></th>\n",
       "      <th></th>\n",
       "    </tr>\n",
       "  </thead>\n",
       "  <tbody>\n",
       "    <tr>\n",
       "      <th>Afghanistan</th>\n",
       "      <th>NaN</th>\n",
       "      <th>1/22/20</th>\n",
       "      <td>33.0000</td>\n",
       "      <td>65.0000</td>\n",
       "      <td>0</td>\n",
       "    </tr>\n",
       "    <tr>\n",
       "      <th>Albania</th>\n",
       "      <th>NaN</th>\n",
       "      <th>1/22/20</th>\n",
       "      <td>41.1533</td>\n",
       "      <td>20.1683</td>\n",
       "      <td>0</td>\n",
       "    </tr>\n",
       "    <tr>\n",
       "      <th>Algeria</th>\n",
       "      <th>NaN</th>\n",
       "      <th>1/22/20</th>\n",
       "      <td>28.0339</td>\n",
       "      <td>1.6596</td>\n",
       "      <td>0</td>\n",
       "    </tr>\n",
       "    <tr>\n",
       "      <th>Andorra</th>\n",
       "      <th>NaN</th>\n",
       "      <th>1/22/20</th>\n",
       "      <td>42.5063</td>\n",
       "      <td>1.5218</td>\n",
       "      <td>0</td>\n",
       "    </tr>\n",
       "    <tr>\n",
       "      <th>Angola</th>\n",
       "      <th>NaN</th>\n",
       "      <th>1/22/20</th>\n",
       "      <td>-11.2027</td>\n",
       "      <td>17.8739</td>\n",
       "      <td>0</td>\n",
       "    </tr>\n",
       "  </tbody>\n",
       "</table>\n",
       "</div>"
      ],
      "text/plain": [
       "                                           Lat     Long  Cases\n",
       "Country/Region Province/State Date                            \n",
       "Afghanistan    NaN            1/22/20  33.0000  65.0000      0\n",
       "Albania        NaN            1/22/20  41.1533  20.1683      0\n",
       "Algeria        NaN            1/22/20  28.0339   1.6596      0\n",
       "Andorra        NaN            1/22/20  42.5063   1.5218      0\n",
       "Angola         NaN            1/22/20 -11.2027  17.8739      0"
      ]
     },
     "execution_count": 7,
     "metadata": {},
     "output_type": "execute_result"
    }
   ],
   "source": [
    "confirmed_cases.head()"
   ]
  },
  {
   "cell_type": "code",
   "execution_count": 8,
   "metadata": {},
   "outputs": [],
   "source": [
    "# Get country-wise data\n",
    "confirmed_cases_country = country_wise(confirmed_cases, 'Cases', 'Total Confirmed Cases')\n",
    "deaths_country = country_wise(deaths, 'Cases', 'Total Deaths')\n",
    "recoveries_country = country_wise(recoveries, 'Cases', 'Total Recoveries')"
   ]
  },
  {
   "cell_type": "code",
   "execution_count": 9,
   "metadata": {},
   "outputs": [],
   "source": [
    "# Get Daily Data\n",
    "new_cases_country = dailydata(confirmed_cases_country, 'Total Confirmed Cases', 'Daily New Cases')\n",
    "new_deaths_country = dailydata(deaths_country, 'Total Deaths', 'Daily New Deaths')\n",
    "new_recoveries_country = dailydata(recoveries_country, 'Total Recoveries', 'Daily New Recoveries')"
   ]
  },
  {
   "cell_type": "code",
   "execution_count": 11,
   "metadata": {},
   "outputs": [],
   "source": [
    "covid_cases = pd.merge(confirmed_cases_country, new_cases_country, how='left', left_index=True, right_index=True)\n",
    "covid_cases = pd.merge(covid_cases, new_deaths_country, how='left', left_index=True, right_index=True)\n",
    "covid_cases = pd.merge(covid_cases, deaths_country, how='left', left_index=True, right_index=True)\n",
    "covid_cases = pd.merge(covid_cases, recoveries_country, how='left', left_index=True, right_index=True)\n",
    "covid_cases = pd.merge(covid_cases, new_recoveries_country, how='left', left_index=True, right_index=True)\n",
    "\n",
    "\n",
    "covid_cases['Active Cases'] = covid_cases['Total Confirmed Cases'] - covid_cases[\n",
    "    'Total Deaths'] - covid_cases['Total Recoveries']\n",
    "covid_cases['Share of Recoveries - Closed Cases'] = np.round(covid_cases['Total Recoveries'] / (\n",
    "        covid_cases['Total Recoveries'] + covid_cases['Total Deaths']), 2)\n",
    "covid_cases['Death to Cases Ratio'] = np.round(\n",
    "    covid_cases['Total Deaths'] / covid_cases['Total Confirmed Cases'], 3)\n"
   ]
  },
  {
   "cell_type": "code",
   "execution_count": 12,
   "metadata": {},
   "outputs": [
    {
     "data": {
      "text/html": [
       "<div>\n",
       "<style scoped>\n",
       "    .dataframe tbody tr th:only-of-type {\n",
       "        vertical-align: middle;\n",
       "    }\n",
       "\n",
       "    .dataframe tbody tr th {\n",
       "        vertical-align: top;\n",
       "    }\n",
       "\n",
       "    .dataframe thead th {\n",
       "        text-align: right;\n",
       "    }\n",
       "</style>\n",
       "<table border=\"1\" class=\"dataframe\">\n",
       "  <thead>\n",
       "    <tr style=\"text-align: right;\">\n",
       "      <th></th>\n",
       "      <th>Total Confirmed Cases</th>\n",
       "      <th>Daily New Cases</th>\n",
       "      <th>Daily New Deaths</th>\n",
       "      <th>Total Deaths</th>\n",
       "      <th>Total Recoveries</th>\n",
       "      <th>Daily New Recoveries</th>\n",
       "      <th>Active Cases</th>\n",
       "      <th>Share of Recoveries - Closed Cases</th>\n",
       "      <th>Death to Cases Ratio</th>\n",
       "    </tr>\n",
       "    <tr>\n",
       "      <th>Date</th>\n",
       "      <th></th>\n",
       "      <th></th>\n",
       "      <th></th>\n",
       "      <th></th>\n",
       "      <th></th>\n",
       "      <th></th>\n",
       "      <th></th>\n",
       "      <th></th>\n",
       "      <th></th>\n",
       "    </tr>\n",
       "  </thead>\n",
       "  <tbody>\n",
       "    <tr>\n",
       "      <th>2020-03-30</th>\n",
       "      <td>700167</td>\n",
       "      <td>62172.0</td>\n",
       "      <td>3653.0</td>\n",
       "      <td>34274</td>\n",
       "      <td>88643</td>\n",
       "      <td>15143.0</td>\n",
       "      <td>577250</td>\n",
       "      <td>0.72</td>\n",
       "      <td>0.049</td>\n",
       "    </tr>\n",
       "    <tr>\n",
       "      <th>2020-03-31</th>\n",
       "      <td>775208</td>\n",
       "      <td>75041.0</td>\n",
       "      <td>4524.0</td>\n",
       "      <td>38798</td>\n",
       "      <td>101828</td>\n",
       "      <td>13185.0</td>\n",
       "      <td>634582</td>\n",
       "      <td>0.72</td>\n",
       "      <td>0.050</td>\n",
       "    </tr>\n",
       "  </tbody>\n",
       "</table>\n",
       "</div>"
      ],
      "text/plain": [
       "            Total Confirmed Cases  Daily New Cases  Daily New Deaths  \\\n",
       "Date                                                                   \n",
       "2020-03-30                 700167          62172.0            3653.0   \n",
       "2020-03-31                 775208          75041.0            4524.0   \n",
       "\n",
       "            Total Deaths  Total Recoveries  Daily New Recoveries  \\\n",
       "Date                                                               \n",
       "2020-03-30         34274             88643               15143.0   \n",
       "2020-03-31         38798            101828               13185.0   \n",
       "\n",
       "            Active Cases  Share of Recoveries - Closed Cases  \\\n",
       "Date                                                           \n",
       "2020-03-30        577250                                0.72   \n",
       "2020-03-31        634582                                0.72   \n",
       "\n",
       "            Death to Cases Ratio  \n",
       "Date                              \n",
       "2020-03-30                 0.049  \n",
       "2020-03-31                 0.050  "
      ]
     },
     "execution_count": 12,
     "metadata": {},
     "output_type": "execute_result"
    }
   ],
   "source": [
    "global_totals = covid_cases.reset_index().groupby('Date').sum()\n",
    "global_totals['Share of Recoveries - Closed Cases'] = np.round(\n",
    "    global_totals['Total Recoveries'] / (global_totals['Total Recoveries'] + global_totals['Total Deaths']), 2)\n",
    "global_totals['Death to Cases Ratio'] = np.round(global_totals['Total Deaths'] / global_totals['Total Confirmed Cases'], 3)\n",
    "global_totals.tail(2)"
   ]
  },
  {
   "cell_type": "markdown",
   "metadata": {},
   "source": [
    "# Plot Global Total Cases"
   ]
  },
  {
   "cell_type": "code",
   "execution_count": 13,
   "metadata": {},
   "outputs": [
    {
     "data": {
      "text/plain": [
       "Total Confirmed Cases                 775208.00\n",
       "Daily New Cases                        75041.00\n",
       "Daily New Deaths                        4524.00\n",
       "Total Deaths                           38798.00\n",
       "Total Recoveries                      101828.00\n",
       "Daily New Recoveries                   13185.00\n",
       "Active Cases                          634582.00\n",
       "Share of Recoveries - Closed Cases         0.72\n",
       "Death to Cases Ratio                       0.05\n",
       "Name: 2020-03-31 00:00:00, dtype: float64"
      ]
     },
     "execution_count": 13,
     "metadata": {},
     "output_type": "execute_result"
    }
   ],
   "source": [
    "global_totals.iloc[-1]"
   ]
  },
  {
   "cell_type": "code",
   "execution_count": 14,
   "metadata": {},
   "outputs": [
    {
     "data": {
      "text/plain": [
       "<matplotlib.axes._subplots.AxesSubplot at 0x14d145cad48>"
      ]
     },
     "execution_count": 14,
     "metadata": {},
     "output_type": "execute_result"
    },
    {
     "data": {
      "image/png": "[encoded data removed]",
      "text/plain": [
       "<Figure size 1080x576 with 1 Axes>"
      ]
     },
     "metadata": {},
     "output_type": "display_data"
    }
   ],
   "source": [
    "#plt.plot(GlobalTotals['Daily New Cases'])\n",
    "global_totals['Daily New Cases'].plot.bar()"
   ]
  },
  {
   "cell_type": "code",
   "execution_count": 15,
   "metadata": {},
   "outputs": [],
   "source": [
    "#plt.plot(GlobalTotals['Daily New Cases'])\n",
    "global_totals['growth'] = global_totals['Daily New Cases'] / global_totals['Active Cases']"
   ]
  },
  {
   "cell_type": "code",
   "execution_count": 16,
   "metadata": {},
   "outputs": [
    {
     "data": {
      "text/plain": [
       "<matplotlib.axes._subplots.AxesSubplot at 0x14d21a316c8>"
      ]
     },
     "execution_count": 16,
     "metadata": {},
     "output_type": "execute_result"
    },
    {
     "data": {
      "image/png": "[encoded data removed]",
      "text/plain": [
       "<Figure size 1080x576 with 1 Axes>"
      ]
     },
     "metadata": {},
     "output_type": "display_data"
    }
   ],
   "source": [
    "global_totals['growth'].plot.bar()"
   ]
  },
  {
   "cell_type": "markdown",
   "metadata": {},
   "source": [
    "# Explore Country Specific Data"
   ]
  },
  {
   "cell_type": "code",
   "execution_count": 17,
   "metadata": {},
   "outputs": [
    {
     "data": {
      "text/html": [
       "<div>\n",
       "<style scoped>\n",
       "    .dataframe tbody tr th:only-of-type {\n",
       "        vertical-align: middle;\n",
       "    }\n",
       "\n",
       "    .dataframe tbody tr th {\n",
       "        vertical-align: top;\n",
       "    }\n",
       "\n",
       "    .dataframe thead th {\n",
       "        text-align: right;\n",
       "    }\n",
       "</style>\n",
       "<table border=\"1\" class=\"dataframe\">\n",
       "  <thead>\n",
       "    <tr style=\"text-align: right;\">\n",
       "      <th></th>\n",
       "      <th>Total Confirmed Cases</th>\n",
       "      <th>Daily New Cases</th>\n",
       "      <th>Daily New Deaths</th>\n",
       "      <th>Total Deaths</th>\n",
       "      <th>Total Recoveries</th>\n",
       "      <th>Daily New Recoveries</th>\n",
       "      <th>Active Cases</th>\n",
       "      <th>Share of Recoveries - Closed Cases</th>\n",
       "      <th>Death to Cases Ratio</th>\n",
       "    </tr>\n",
       "    <tr>\n",
       "      <th>Date</th>\n",
       "      <th></th>\n",
       "      <th></th>\n",
       "      <th></th>\n",
       "      <th></th>\n",
       "      <th></th>\n",
       "      <th></th>\n",
       "      <th></th>\n",
       "      <th></th>\n",
       "      <th></th>\n",
       "    </tr>\n",
       "  </thead>\n",
       "  <tbody>\n",
       "    <tr>\n",
       "      <th>2020-03-27</th>\n",
       "      <td>50871</td>\n",
       "      <td>6933.0</td>\n",
       "      <td>75.0</td>\n",
       "      <td>342</td>\n",
       "      <td>6658</td>\n",
       "      <td>985.0</td>\n",
       "      <td>43871</td>\n",
       "      <td>0.95</td>\n",
       "      <td>0.007</td>\n",
       "    </tr>\n",
       "    <tr>\n",
       "      <th>2020-03-28</th>\n",
       "      <td>57695</td>\n",
       "      <td>6824.0</td>\n",
       "      <td>91.0</td>\n",
       "      <td>433</td>\n",
       "      <td>8481</td>\n",
       "      <td>1823.0</td>\n",
       "      <td>48781</td>\n",
       "      <td>0.95</td>\n",
       "      <td>0.008</td>\n",
       "    </tr>\n",
       "    <tr>\n",
       "      <th>2020-03-29</th>\n",
       "      <td>62095</td>\n",
       "      <td>4400.0</td>\n",
       "      <td>100.0</td>\n",
       "      <td>533</td>\n",
       "      <td>9211</td>\n",
       "      <td>730.0</td>\n",
       "      <td>52351</td>\n",
       "      <td>0.95</td>\n",
       "      <td>0.009</td>\n",
       "    </tr>\n",
       "    <tr>\n",
       "      <th>2020-03-30</th>\n",
       "      <td>66885</td>\n",
       "      <td>4790.0</td>\n",
       "      <td>112.0</td>\n",
       "      <td>645</td>\n",
       "      <td>13500</td>\n",
       "      <td>4289.0</td>\n",
       "      <td>52740</td>\n",
       "      <td>0.95</td>\n",
       "      <td>0.010</td>\n",
       "    </tr>\n",
       "    <tr>\n",
       "      <th>2020-03-31</th>\n",
       "      <td>71808</td>\n",
       "      <td>4923.0</td>\n",
       "      <td>130.0</td>\n",
       "      <td>775</td>\n",
       "      <td>16100</td>\n",
       "      <td>2600.0</td>\n",
       "      <td>54933</td>\n",
       "      <td>0.95</td>\n",
       "      <td>0.011</td>\n",
       "    </tr>\n",
       "  </tbody>\n",
       "</table>\n",
       "</div>"
      ],
      "text/plain": [
       "            Total Confirmed Cases  Daily New Cases  Daily New Deaths  \\\n",
       "Date                                                                   \n",
       "2020-03-27                  50871           6933.0              75.0   \n",
       "2020-03-28                  57695           6824.0              91.0   \n",
       "2020-03-29                  62095           4400.0             100.0   \n",
       "2020-03-30                  66885           4790.0             112.0   \n",
       "2020-03-31                  71808           4923.0             130.0   \n",
       "\n",
       "            Total Deaths  Total Recoveries  Daily New Recoveries  \\\n",
       "Date                                                               \n",
       "2020-03-27           342              6658                 985.0   \n",
       "2020-03-28           433              8481                1823.0   \n",
       "2020-03-29           533              9211                 730.0   \n",
       "2020-03-30           645             13500                4289.0   \n",
       "2020-03-31           775             16100                2600.0   \n",
       "\n",
       "            Active Cases  Share of Recoveries - Closed Cases  \\\n",
       "Date                                                           \n",
       "2020-03-27         43871                                0.95   \n",
       "2020-03-28         48781                                0.95   \n",
       "2020-03-29         52351                                0.95   \n",
       "2020-03-30         52740                                0.95   \n",
       "2020-03-31         54933                                0.95   \n",
       "\n",
       "            Death to Cases Ratio  \n",
       "Date                              \n",
       "2020-03-27                 0.007  \n",
       "2020-03-28                 0.008  \n",
       "2020-03-29                 0.009  \n",
       "2020-03-30                 0.010  \n",
       "2020-03-31                 0.011  "
      ]
     },
     "execution_count": 17,
     "metadata": {},
     "output_type": "execute_result"
    }
   ],
   "source": [
    "germany = covid_cases.loc['Germany'].copy()\n",
    "germany.tail()"
   ]
  },
  {
   "cell_type": "code",
   "execution_count": 18,
   "metadata": {},
   "outputs": [
    {
     "data": {
      "text/html": [
       "<div>\n",
       "<style scoped>\n",
       "    .dataframe tbody tr th:only-of-type {\n",
       "        vertical-align: middle;\n",
       "    }\n",
       "\n",
       "    .dataframe tbody tr th {\n",
       "        vertical-align: top;\n",
       "    }\n",
       "\n",
       "    .dataframe thead th {\n",
       "        text-align: right;\n",
       "    }\n",
       "</style>\n",
       "<table border=\"1\" class=\"dataframe\">\n",
       "  <thead>\n",
       "    <tr style=\"text-align: right;\">\n",
       "      <th></th>\n",
       "      <th>Total Confirmed Cases</th>\n",
       "      <th>Daily New Cases</th>\n",
       "      <th>Daily New Deaths</th>\n",
       "      <th>Total Deaths</th>\n",
       "      <th>Total Recoveries</th>\n",
       "      <th>Daily New Recoveries</th>\n",
       "      <th>Active Cases</th>\n",
       "      <th>Share of Recoveries - Closed Cases</th>\n",
       "      <th>Death to Cases Ratio</th>\n",
       "    </tr>\n",
       "    <tr>\n",
       "      <th>Date</th>\n",
       "      <th></th>\n",
       "      <th></th>\n",
       "      <th></th>\n",
       "      <th></th>\n",
       "      <th></th>\n",
       "      <th></th>\n",
       "      <th></th>\n",
       "      <th></th>\n",
       "      <th></th>\n",
       "    </tr>\n",
       "  </thead>\n",
       "  <tbody>\n",
       "    <tr>\n",
       "      <th>2020-03-27</th>\n",
       "      <td>9332</td>\n",
       "      <td>91.0</td>\n",
       "      <td>8.0</td>\n",
       "      <td>139</td>\n",
       "      <td>4528</td>\n",
       "      <td>384.0</td>\n",
       "      <td>4665</td>\n",
       "      <td>0.97</td>\n",
       "      <td>0.015</td>\n",
       "    </tr>\n",
       "    <tr>\n",
       "      <th>2020-03-28</th>\n",
       "      <td>9478</td>\n",
       "      <td>146.0</td>\n",
       "      <td>5.0</td>\n",
       "      <td>144</td>\n",
       "      <td>4811</td>\n",
       "      <td>283.0</td>\n",
       "      <td>4523</td>\n",
       "      <td>0.97</td>\n",
       "      <td>0.015</td>\n",
       "    </tr>\n",
       "    <tr>\n",
       "      <th>2020-03-29</th>\n",
       "      <td>9583</td>\n",
       "      <td>105.0</td>\n",
       "      <td>8.0</td>\n",
       "      <td>152</td>\n",
       "      <td>5033</td>\n",
       "      <td>222.0</td>\n",
       "      <td>4398</td>\n",
       "      <td>0.97</td>\n",
       "      <td>0.016</td>\n",
       "    </tr>\n",
       "    <tr>\n",
       "      <th>2020-03-30</th>\n",
       "      <td>9661</td>\n",
       "      <td>78.0</td>\n",
       "      <td>6.0</td>\n",
       "      <td>158</td>\n",
       "      <td>5228</td>\n",
       "      <td>195.0</td>\n",
       "      <td>4275</td>\n",
       "      <td>0.97</td>\n",
       "      <td>0.016</td>\n",
       "    </tr>\n",
       "    <tr>\n",
       "      <th>2020-03-31</th>\n",
       "      <td>9786</td>\n",
       "      <td>125.0</td>\n",
       "      <td>4.0</td>\n",
       "      <td>162</td>\n",
       "      <td>5408</td>\n",
       "      <td>180.0</td>\n",
       "      <td>4216</td>\n",
       "      <td>0.97</td>\n",
       "      <td>0.017</td>\n",
       "    </tr>\n",
       "  </tbody>\n",
       "</table>\n",
       "</div>"
      ],
      "text/plain": [
       "            Total Confirmed Cases  Daily New Cases  Daily New Deaths  \\\n",
       "Date                                                                   \n",
       "2020-03-27                   9332             91.0               8.0   \n",
       "2020-03-28                   9478            146.0               5.0   \n",
       "2020-03-29                   9583            105.0               8.0   \n",
       "2020-03-30                   9661             78.0               6.0   \n",
       "2020-03-31                   9786            125.0               4.0   \n",
       "\n",
       "            Total Deaths  Total Recoveries  Daily New Recoveries  \\\n",
       "Date                                                               \n",
       "2020-03-27           139              4528                 384.0   \n",
       "2020-03-28           144              4811                 283.0   \n",
       "2020-03-29           152              5033                 222.0   \n",
       "2020-03-30           158              5228                 195.0   \n",
       "2020-03-31           162              5408                 180.0   \n",
       "\n",
       "            Active Cases  Share of Recoveries - Closed Cases  \\\n",
       "Date                                                           \n",
       "2020-03-27          4665                                0.97   \n",
       "2020-03-28          4523                                0.97   \n",
       "2020-03-29          4398                                0.97   \n",
       "2020-03-30          4275                                0.97   \n",
       "2020-03-31          4216                                0.97   \n",
       "\n",
       "            Death to Cases Ratio  \n",
       "Date                              \n",
       "2020-03-27                 0.015  \n",
       "2020-03-28                 0.015  \n",
       "2020-03-29                 0.016  \n",
       "2020-03-30                 0.016  \n",
       "2020-03-31                 0.017  "
      ]
     },
     "execution_count": 18,
     "metadata": {},
     "output_type": "execute_result"
    }
   ],
   "source": [
    "south_korea = covid_cases.loc['Korea, South'].copy()\n",
    "south_korea.tail()"
   ]
  },
  {
   "cell_type": "code",
   "execution_count": 19,
   "metadata": {},
   "outputs": [
    {
     "data": {
      "text/plain": [
       "<matplotlib.axes._subplots.AxesSubplot at 0x14d21bead88>"
      ]
     },
     "execution_count": 19,
     "metadata": {},
     "output_type": "execute_result"
    },
    {
     "data": {
      "image/png": "[encoded data removed]",
      "text/plain": [
       "<Figure size 1080x576 with 1 Axes>"
      ]
     },
     "metadata": {},
     "output_type": "display_data"
    }
   ],
   "source": [
    "germany['Total Confirmed Cases'].iloc[-35:].plot.bar()"
   ]
  },
  {
   "cell_type": "code",
   "execution_count": 20,
   "metadata": {},
   "outputs": [
    {
     "data": {
      "text/plain": [
       "<matplotlib.axes._subplots.AxesSubplot at 0x14d21f7f448>"
      ]
     },
     "execution_count": 20,
     "metadata": {},
     "output_type": "execute_result"
    },
    {
     "data": {
      "image/png": "[encoded data removed]",
      "text/plain": [
       "<Figure size 1080x576 with 1 Axes>"
      ]
     },
     "metadata": {},
     "output_type": "display_data"
    }
   ],
   "source": [
    "germany['Daily New Cases'].iloc[-35:].plot.bar()"
   ]
  },
  {
   "cell_type": "code",
   "execution_count": 21,
   "metadata": {},
   "outputs": [
    {
     "data": {
      "text/plain": [
       "<matplotlib.axes._subplots.AxesSubplot at 0x14d22449648>"
      ]
     },
     "execution_count": 21,
     "metadata": {},
     "output_type": "execute_result"
    },
    {
     "data": {
      "image/png": "[encoded data removed]",
      "text/plain": [
       "<Figure size 1080x576 with 1 Axes>"
      ]
     },
     "metadata": {},
     "output_type": "display_data"
    }
   ],
   "source": [
    "south_korea['Daily New Cases'].iloc[-38:].plot.bar()"
   ]
  },
  {
   "cell_type": "code",
   "execution_count": 22,
   "metadata": {},
   "outputs": [],
   "source": [
    "germany['growth rate'] = germany['Daily New Cases'] / germany['Active Cases']"
   ]
  },
  {
   "cell_type": "code",
   "execution_count": 23,
   "metadata": {},
   "outputs": [],
   "source": [
    "past_window = 36"
   ]
  },
  {
   "cell_type": "code",
   "execution_count": 24,
   "metadata": {},
   "outputs": [],
   "source": [
    "germany_growth_moving_average = germany['growth rate'].iloc[-past_window:].rolling(window=3).mean()\n",
    "germany_growth_ema = germany['growth rate'].iloc[-past_window:].ewm(span=6,adjust=False).mean()"
   ]
  },
  {
   "cell_type": "code",
   "execution_count": 25,
   "metadata": {},
   "outputs": [
    {
     "data": {
      "text/plain": [
       "Text(0.5, 1.0, 'Growth = Daily New Cases / Active Cases')"
      ]
     },
     "execution_count": 25,
     "metadata": {},
     "output_type": "execute_result"
    },
    {
     "data": {
      "image/png": "[encoded data removed]",
      "text/plain": [
       "<Figure size 1080x576 with 1 Axes>"
      ]
     },
     "metadata": {},
     "output_type": "display_data"
    }
   ],
   "source": [
    "plt.bar(germany.iloc[-past_window:].index, germany['growth rate'].iloc[-past_window:], label='Growth Rate Germany')\n",
    "#plt.plot(germany_growth_moving_average.index, germany_growth_moving_average, label='Moving Average', color='red')\n",
    "plt.plot(germany_growth_ema.index, germany_growth_ema, label='Exponential Moving Average', color='red')\n",
    "\n",
    "plt.legend(loc='best')\n",
    "plt.title('Growth = Daily New Cases / Active Cases')"
   ]
  },
  {
   "cell_type": "code",
   "execution_count": 26,
   "metadata": {},
   "outputs": [
    {
     "data": {
      "text/plain": [
       "Date\n",
       "2020-03-22    0.108514\n",
       "2020-03-23    0.145917\n",
       "2020-03-24    0.132833\n",
       "2020-03-25    0.129193\n",
       "2020-03-26    0.174088\n",
       "2020-03-27    0.158032\n",
       "2020-03-28    0.139891\n",
       "2020-03-29    0.084048\n",
       "2020-03-30    0.090823\n",
       "2020-03-31    0.089618\n",
       "Name: growth rate, dtype: float64"
      ]
     },
     "execution_count": 26,
     "metadata": {},
     "output_type": "execute_result"
    }
   ],
   "source": [
    "germany['growth rate'].tail(10)"
   ]
  },
  {
   "cell_type": "code",
   "execution_count": 27,
   "metadata": {},
   "outputs": [
    {
     "data": {
      "text/plain": [
       "<matplotlib.axes._subplots.AxesSubplot at 0x14d2267fec8>"
      ]
     },
     "execution_count": 27,
     "metadata": {},
     "output_type": "execute_result"
    },
    {
     "data": {
      "image/png": "[encoded data removed]",
      "text/plain": [
       "<Figure size 1080x576 with 1 Axes>"
      ]
     },
     "metadata": {},
     "output_type": "display_data"
    }
   ],
   "source": [
    "germany['Active Cases'].iloc[-32:].plot.bar()"
   ]
  },
  {
   "cell_type": "code",
   "execution_count": 28,
   "metadata": {},
   "outputs": [
    {
     "data": {
      "text/plain": [
       "<matplotlib.axes._subplots.AxesSubplot at 0x14d2297f8c8>"
      ]
     },
     "execution_count": 28,
     "metadata": {},
     "output_type": "execute_result"
    },
    {
     "data": {
      "image/png": "[encoded data removed]",
      "text/plain": [
       "<Figure size 1080x576 with 1 Axes>"
      ]
     },
     "metadata": {},
     "output_type": "display_data"
    }
   ],
   "source": [
    "south_korea['Active Cases'].iloc[-50:].plot.bar()"
   ]
  },
  {
   "cell_type": "code",
   "execution_count": 29,
   "metadata": {},
   "outputs": [],
   "source": [
    "south_korea['growth rate'] = south_korea['Daily New Cases'] / south_korea['Active Cases']"
   ]
  },
  {
   "cell_type": "code",
   "execution_count": 30,
   "metadata": {},
   "outputs": [
    {
     "data": {
      "text/plain": [
       "<matplotlib.axes._subplots.AxesSubplot at 0x14d22aac2c8>"
      ]
     },
     "execution_count": 30,
     "metadata": {},
     "output_type": "execute_result"
    },
    {
     "data": {
      "image/png": "[encoded data removed]",
      "text/plain": [
       "<Figure size 1080x576 with 1 Axes>"
      ]
     },
     "metadata": {},
     "output_type": "display_data"
    }
   ],
   "source": [
    "south_korea['growth rate'].iloc[-38:].plot.bar()"
   ]
  },
  {
   "cell_type": "code",
   "execution_count": 31,
   "metadata": {},
   "outputs": [
    {
     "data": {
      "text/plain": [
       "Date\n",
       "2020-03-22    0.027268\n",
       "2020-03-23    0.000000\n",
       "2020-03-24    0.014048\n",
       "2020-03-25    0.018936\n",
       "2020-03-26    0.020942\n",
       "2020-03-27    0.019507\n",
       "2020-03-28    0.032279\n",
       "2020-03-29    0.023874\n",
       "2020-03-30    0.018246\n",
       "2020-03-31    0.029649\n",
       "Name: growth rate, dtype: float64"
      ]
     },
     "execution_count": 31,
     "metadata": {},
     "output_type": "execute_result"
    }
   ],
   "source": [
    "south_korea['growth rate'].tail(10)"
   ]
  }
 ],
 "metadata": {
  "kernelspec": {
   "display_name": "Python 3",
   "language": "python",
   "name": "python3"
  },
  "language_info": {
   "codemirror_mode": {
    "name": "ipython",
    "version": 3
   },
   "file_extension": ".py",
   "mimetype": "text/x-python",
   "name": "python",
   "nbconvert_exporter": "python",
   "pygments_lexer": "ipython3",
   "version": "3.7.7"
  }
 },
 "nbformat": 4,
 "nbformat_minor": 2
}
