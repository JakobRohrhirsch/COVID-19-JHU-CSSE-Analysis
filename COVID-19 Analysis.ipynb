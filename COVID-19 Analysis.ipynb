{
 "cells": [
  {
   "cell_type": "markdown",
   "metadata": {},
   "source": [
    "### Import Libraries and Read Data"
   ]
  },
  {
   "cell_type": "code",
   "execution_count": 1,
   "metadata": {},
   "outputs": [],
   "source": [
    "## Import Libraries\n",
    "import numpy as np\n",
    "import pandas as pd\n",
    "import matplotlib.pyplot as plt"
   ]
  },
  {
   "cell_type": "code",
   "execution_count": 2,
   "metadata": {},
   "outputs": [],
   "source": [
    "%matplotlib inline\n",
    "plt.rcParams['figure.figsize'] = [15, 8]\n",
    "pd.plotting.register_matplotlib_converters()\n",
    "plt.style.use('seaborn-dark')"
   ]
  },
  {
   "cell_type": "code",
   "execution_count": 3,
   "metadata": {},
   "outputs": [],
   "source": [
    "## Read Data for Cases, Deaths and Recoveries\n",
    "confirmed_cases_raw = pd.read_csv(\n",
    "    'https://raw.githubusercontent.com/CSSEGISandData/COVID-19/master/csse_covid_19_data/csse_covid_19_time_series/time_series_covid19_confirmed_global.csv')\n",
    "deaths_raw = pd.read_csv(\n",
    "    'https://raw.githubusercontent.com/CSSEGISandData/COVID-19/master/csse_covid_19_data/csse_covid_19_time_series/time_series_covid19_deaths_global.csv')\n",
    "recoveries_raw = pd.read_csv(\n",
    "    'https://raw.githubusercontent.com/CSSEGISandData/COVID-19/master/csse_covid_19_data/csse_covid_19_time_series/time_series_covid19_recovered_global.csv')\n"
   ]
  },
  {
   "cell_type": "code",
   "execution_count": 4,
   "metadata": {},
   "outputs": [
    {
     "data": {
      "text/html": [
       "<div>\n",
       "<style scoped>\n",
       "    .dataframe tbody tr th:only-of-type {\n",
       "        vertical-align: middle;\n",
       "    }\n",
       "\n",
       "    .dataframe tbody tr th {\n",
       "        vertical-align: top;\n",
       "    }\n",
       "\n",
       "    .dataframe thead th {\n",
       "        text-align: right;\n",
       "    }\n",
       "</style>\n",
       "<table border=\"1\" class=\"dataframe\">\n",
       "  <thead>\n",
       "    <tr style=\"text-align: right;\">\n",
       "      <th></th>\n",
       "      <th>Province/State</th>\n",
       "      <th>Country/Region</th>\n",
       "      <th>Lat</th>\n",
       "      <th>Long</th>\n",
       "      <th>1/22/20</th>\n",
       "      <th>1/23/20</th>\n",
       "      <th>1/24/20</th>\n",
       "      <th>1/25/20</th>\n",
       "      <th>1/26/20</th>\n",
       "      <th>1/27/20</th>\n",
       "      <th>...</th>\n",
       "      <th>3/31/20</th>\n",
       "      <th>4/1/20</th>\n",
       "      <th>4/2/20</th>\n",
       "      <th>4/3/20</th>\n",
       "      <th>4/4/20</th>\n",
       "      <th>4/5/20</th>\n",
       "      <th>4/6/20</th>\n",
       "      <th>4/7/20</th>\n",
       "      <th>4/8/20</th>\n",
       "      <th>4/9/20</th>\n",
       "    </tr>\n",
       "  </thead>\n",
       "  <tbody>\n",
       "    <tr>\n",
       "      <th>0</th>\n",
       "      <td>NaN</td>\n",
       "      <td>Afghanistan</td>\n",
       "      <td>33.0000</td>\n",
       "      <td>65.0000</td>\n",
       "      <td>0</td>\n",
       "      <td>0</td>\n",
       "      <td>0</td>\n",
       "      <td>0</td>\n",
       "      <td>0</td>\n",
       "      <td>0</td>\n",
       "      <td>...</td>\n",
       "      <td>174</td>\n",
       "      <td>237</td>\n",
       "      <td>273</td>\n",
       "      <td>281</td>\n",
       "      <td>299</td>\n",
       "      <td>349</td>\n",
       "      <td>367</td>\n",
       "      <td>423</td>\n",
       "      <td>444</td>\n",
       "      <td>484</td>\n",
       "    </tr>\n",
       "    <tr>\n",
       "      <th>1</th>\n",
       "      <td>NaN</td>\n",
       "      <td>Albania</td>\n",
       "      <td>41.1533</td>\n",
       "      <td>20.1683</td>\n",
       "      <td>0</td>\n",
       "      <td>0</td>\n",
       "      <td>0</td>\n",
       "      <td>0</td>\n",
       "      <td>0</td>\n",
       "      <td>0</td>\n",
       "      <td>...</td>\n",
       "      <td>243</td>\n",
       "      <td>259</td>\n",
       "      <td>277</td>\n",
       "      <td>304</td>\n",
       "      <td>333</td>\n",
       "      <td>361</td>\n",
       "      <td>377</td>\n",
       "      <td>383</td>\n",
       "      <td>400</td>\n",
       "      <td>409</td>\n",
       "    </tr>\n",
       "    <tr>\n",
       "      <th>2</th>\n",
       "      <td>NaN</td>\n",
       "      <td>Algeria</td>\n",
       "      <td>28.0339</td>\n",
       "      <td>1.6596</td>\n",
       "      <td>0</td>\n",
       "      <td>0</td>\n",
       "      <td>0</td>\n",
       "      <td>0</td>\n",
       "      <td>0</td>\n",
       "      <td>0</td>\n",
       "      <td>...</td>\n",
       "      <td>716</td>\n",
       "      <td>847</td>\n",
       "      <td>986</td>\n",
       "      <td>1171</td>\n",
       "      <td>1251</td>\n",
       "      <td>1320</td>\n",
       "      <td>1423</td>\n",
       "      <td>1468</td>\n",
       "      <td>1572</td>\n",
       "      <td>1666</td>\n",
       "    </tr>\n",
       "    <tr>\n",
       "      <th>3</th>\n",
       "      <td>NaN</td>\n",
       "      <td>Andorra</td>\n",
       "      <td>42.5063</td>\n",
       "      <td>1.5218</td>\n",
       "      <td>0</td>\n",
       "      <td>0</td>\n",
       "      <td>0</td>\n",
       "      <td>0</td>\n",
       "      <td>0</td>\n",
       "      <td>0</td>\n",
       "      <td>...</td>\n",
       "      <td>376</td>\n",
       "      <td>390</td>\n",
       "      <td>428</td>\n",
       "      <td>439</td>\n",
       "      <td>466</td>\n",
       "      <td>501</td>\n",
       "      <td>525</td>\n",
       "      <td>545</td>\n",
       "      <td>564</td>\n",
       "      <td>583</td>\n",
       "    </tr>\n",
       "    <tr>\n",
       "      <th>4</th>\n",
       "      <td>NaN</td>\n",
       "      <td>Angola</td>\n",
       "      <td>-11.2027</td>\n",
       "      <td>17.8739</td>\n",
       "      <td>0</td>\n",
       "      <td>0</td>\n",
       "      <td>0</td>\n",
       "      <td>0</td>\n",
       "      <td>0</td>\n",
       "      <td>0</td>\n",
       "      <td>...</td>\n",
       "      <td>7</td>\n",
       "      <td>8</td>\n",
       "      <td>8</td>\n",
       "      <td>8</td>\n",
       "      <td>10</td>\n",
       "      <td>14</td>\n",
       "      <td>16</td>\n",
       "      <td>17</td>\n",
       "      <td>19</td>\n",
       "      <td>19</td>\n",
       "    </tr>\n",
       "  </tbody>\n",
       "</table>\n",
       "<p>5 rows × 83 columns</p>\n",
       "</div>"
      ],
      "text/plain": [
       "  Province/State Country/Region      Lat     Long  1/22/20  1/23/20  1/24/20  \\\n",
       "0            NaN    Afghanistan  33.0000  65.0000        0        0        0   \n",
       "1            NaN        Albania  41.1533  20.1683        0        0        0   \n",
       "2            NaN        Algeria  28.0339   1.6596        0        0        0   \n",
       "3            NaN        Andorra  42.5063   1.5218        0        0        0   \n",
       "4            NaN         Angola -11.2027  17.8739        0        0        0   \n",
       "\n",
       "   1/25/20  1/26/20  1/27/20  ...  3/31/20  4/1/20  4/2/20  4/3/20  4/4/20  \\\n",
       "0        0        0        0  ...      174     237     273     281     299   \n",
       "1        0        0        0  ...      243     259     277     304     333   \n",
       "2        0        0        0  ...      716     847     986    1171    1251   \n",
       "3        0        0        0  ...      376     390     428     439     466   \n",
       "4        0        0        0  ...        7       8       8       8      10   \n",
       "\n",
       "   4/5/20  4/6/20  4/7/20  4/8/20  4/9/20  \n",
       "0     349     367     423     444     484  \n",
       "1     361     377     383     400     409  \n",
       "2    1320    1423    1468    1572    1666  \n",
       "3     501     525     545     564     583  \n",
       "4      14      16      17      19      19  \n",
       "\n",
       "[5 rows x 83 columns]"
      ]
     },
     "execution_count": 4,
     "metadata": {},
     "output_type": "execute_result"
    }
   ],
   "source": [
    "confirmed_cases_raw.head()"
   ]
  },
  {
   "cell_type": "code",
   "execution_count": 5,
   "metadata": {},
   "outputs": [],
   "source": [
    "### Melt the dateframe into the right shape and set index\n",
    "def melt_data(df_raw, drop_country=None):\n",
    "    df_cleaned = df_raw.melt(id_vars=['Province/State', 'Country/Region', 'Lat', 'Long'], value_name='Cases',\n",
    "                             var_name='Date')\n",
    "    df_cleaned = df_cleaned.set_index(['Country/Region', 'Province/State', 'Date'])\n",
    "    if drop_country:\n",
    "        df_cleaned.drop(drop_country, level=0, inplace=True)\n",
    "    return df_cleaned\n",
    "\n",
    "\n",
    "### Get Country-wise Data\n",
    "def country_wise(df_cleaned, oldname, newname):\n",
    "    df_country = df_cleaned.groupby(['Country/Region', 'Date'])['Cases'].sum().reset_index()\n",
    "    df_country = df_country.set_index(['Country/Region', 'Date'])\n",
    "    df_country.index = df_country.index.set_levels(\n",
    "        [df_country.index.levels[0], pd.to_datetime(df_country.index.levels[1])])\n",
    "    df_country = df_country.sort_values(['Country/Region', 'Date'], ascending=True)\n",
    "    df_country = df_country.rename(columns={oldname: newname})\n",
    "    return df_country\n",
    "\n",
    "\n",
    "### Get DailyData from Cumulative sum\n",
    "def dailydata(dfcountry, oldname, newname):\n",
    "    dfcountrydaily = dfcountry.groupby(level=0).diff().fillna(0)\n",
    "    dfcountrydaily = dfcountrydaily.rename(columns={oldname: newname})\n",
    "    return dfcountrydaily"
   ]
  },
  {
   "cell_type": "code",
   "execution_count": 6,
   "metadata": {},
   "outputs": [],
   "source": [
    "# Clean all datasets\n",
    "confirmed_cases = melt_data(confirmed_cases_raw, ['China', 'Mainland China'])\n",
    "deaths = melt_data(deaths_raw, ['China', 'Mainland China'])\n",
    "recoveries = melt_data(recoveries_raw, ['China', 'Mainland China'])"
   ]
  },
  {
   "cell_type": "code",
   "execution_count": 7,
   "metadata": {},
   "outputs": [
    {
     "data": {
      "text/html": [
       "<div>\n",
       "<style scoped>\n",
       "    .dataframe tbody tr th:only-of-type {\n",
       "        vertical-align: middle;\n",
       "    }\n",
       "\n",
       "    .dataframe tbody tr th {\n",
       "        vertical-align: top;\n",
       "    }\n",
       "\n",
       "    .dataframe thead th {\n",
       "        text-align: right;\n",
       "    }\n",
       "</style>\n",
       "<table border=\"1\" class=\"dataframe\">\n",
       "  <thead>\n",
       "    <tr style=\"text-align: right;\">\n",
       "      <th></th>\n",
       "      <th></th>\n",
       "      <th></th>\n",
       "      <th>Lat</th>\n",
       "      <th>Long</th>\n",
       "      <th>Cases</th>\n",
       "    </tr>\n",
       "    <tr>\n",
       "      <th>Country/Region</th>\n",
       "      <th>Province/State</th>\n",
       "      <th>Date</th>\n",
       "      <th></th>\n",
       "      <th></th>\n",
       "      <th></th>\n",
       "    </tr>\n",
       "  </thead>\n",
       "  <tbody>\n",
       "    <tr>\n",
       "      <th>Afghanistan</th>\n",
       "      <th>NaN</th>\n",
       "      <th>1/22/20</th>\n",
       "      <td>33.0000</td>\n",
       "      <td>65.0000</td>\n",
       "      <td>0</td>\n",
       "    </tr>\n",
       "    <tr>\n",
       "      <th>Albania</th>\n",
       "      <th>NaN</th>\n",
       "      <th>1/22/20</th>\n",
       "      <td>41.1533</td>\n",
       "      <td>20.1683</td>\n",
       "      <td>0</td>\n",
       "    </tr>\n",
       "    <tr>\n",
       "      <th>Algeria</th>\n",
       "      <th>NaN</th>\n",
       "      <th>1/22/20</th>\n",
       "      <td>28.0339</td>\n",
       "      <td>1.6596</td>\n",
       "      <td>0</td>\n",
       "    </tr>\n",
       "    <tr>\n",
       "      <th>Andorra</th>\n",
       "      <th>NaN</th>\n",
       "      <th>1/22/20</th>\n",
       "      <td>42.5063</td>\n",
       "      <td>1.5218</td>\n",
       "      <td>0</td>\n",
       "    </tr>\n",
       "    <tr>\n",
       "      <th>Angola</th>\n",
       "      <th>NaN</th>\n",
       "      <th>1/22/20</th>\n",
       "      <td>-11.2027</td>\n",
       "      <td>17.8739</td>\n",
       "      <td>0</td>\n",
       "    </tr>\n",
       "  </tbody>\n",
       "</table>\n",
       "</div>"
      ],
      "text/plain": [
       "                                           Lat     Long  Cases\n",
       "Country/Region Province/State Date                            \n",
       "Afghanistan    NaN            1/22/20  33.0000  65.0000      0\n",
       "Albania        NaN            1/22/20  41.1533  20.1683      0\n",
       "Algeria        NaN            1/22/20  28.0339   1.6596      0\n",
       "Andorra        NaN            1/22/20  42.5063   1.5218      0\n",
       "Angola         NaN            1/22/20 -11.2027  17.8739      0"
      ]
     },
     "execution_count": 7,
     "metadata": {},
     "output_type": "execute_result"
    }
   ],
   "source": [
    "confirmed_cases.head()"
   ]
  },
  {
   "cell_type": "code",
   "execution_count": 8,
   "metadata": {},
   "outputs": [],
   "source": [
    "# Get country-wise data\n",
    "confirmed_cases_country = country_wise(confirmed_cases, 'Cases', 'Total Confirmed Cases')\n",
    "deaths_country = country_wise(deaths, 'Cases', 'Total Deaths')\n",
    "recoveries_country = country_wise(recoveries, 'Cases', 'Total Recoveries')"
   ]
  },
  {
   "cell_type": "code",
   "execution_count": 9,
   "metadata": {},
   "outputs": [],
   "source": [
    "# Get Daily Data\n",
    "new_cases_country = dailydata(confirmed_cases_country, 'Total Confirmed Cases', 'Daily New Cases')\n",
    "new_deaths_country = dailydata(deaths_country, 'Total Deaths', 'Daily New Deaths')\n",
    "new_recoveries_country = dailydata(recoveries_country, 'Total Recoveries', 'Daily New Recoveries')"
   ]
  },
  {
   "cell_type": "code",
   "execution_count": 10,
   "metadata": {},
   "outputs": [],
   "source": [
    "covid_cases = pd.merge(confirmed_cases_country, new_cases_country, how='left', left_index=True, right_index=True)\n",
    "covid_cases = pd.merge(covid_cases, new_deaths_country, how='left', left_index=True, right_index=True)\n",
    "covid_cases = pd.merge(covid_cases, deaths_country, how='left', left_index=True, right_index=True)\n",
    "covid_cases = pd.merge(covid_cases, recoveries_country, how='left', left_index=True, right_index=True)\n",
    "covid_cases = pd.merge(covid_cases, new_recoveries_country, how='left', left_index=True, right_index=True)\n",
    "\n",
    "\n",
    "covid_cases['Active Cases'] = covid_cases['Total Confirmed Cases'] - covid_cases[\n",
    "    'Total Deaths'] - covid_cases['Total Recoveries']\n",
    "covid_cases['Share of Recoveries - Closed Cases'] = np.round(covid_cases['Total Recoveries'] / (\n",
    "        covid_cases['Total Recoveries'] + covid_cases['Total Deaths']), 2)\n",
    "covid_cases['Death to Cases Ratio'] = np.round(\n",
    "    covid_cases['Total Deaths'] / covid_cases['Total Confirmed Cases'], 3)\n"
   ]
  },
  {
   "cell_type": "code",
   "execution_count": 11,
   "metadata": {},
   "outputs": [
    {
     "data": {
      "text/html": [
       "<div>\n",
       "<style scoped>\n",
       "    .dataframe tbody tr th:only-of-type {\n",
       "        vertical-align: middle;\n",
       "    }\n",
       "\n",
       "    .dataframe tbody tr th {\n",
       "        vertical-align: top;\n",
       "    }\n",
       "\n",
       "    .dataframe thead th {\n",
       "        text-align: right;\n",
       "    }\n",
       "</style>\n",
       "<table border=\"1\" class=\"dataframe\">\n",
       "  <thead>\n",
       "    <tr style=\"text-align: right;\">\n",
       "      <th></th>\n",
       "      <th>Total Confirmed Cases</th>\n",
       "      <th>Daily New Cases</th>\n",
       "      <th>Daily New Deaths</th>\n",
       "      <th>Total Deaths</th>\n",
       "      <th>Total Recoveries</th>\n",
       "      <th>Daily New Recoveries</th>\n",
       "      <th>Active Cases</th>\n",
       "      <th>Share of Recoveries - Closed Cases</th>\n",
       "      <th>Death to Cases Ratio</th>\n",
       "    </tr>\n",
       "    <tr>\n",
       "      <th>Date</th>\n",
       "      <th></th>\n",
       "      <th></th>\n",
       "      <th></th>\n",
       "      <th></th>\n",
       "      <th></th>\n",
       "      <th></th>\n",
       "      <th></th>\n",
       "      <th></th>\n",
       "      <th></th>\n",
       "    </tr>\n",
       "  </thead>\n",
       "  <tbody>\n",
       "    <tr>\n",
       "      <th>2020-04-08</th>\n",
       "      <td>1428295</td>\n",
       "      <td>84917.0</td>\n",
       "      <td>6471.0</td>\n",
       "      <td>85001</td>\n",
       "      <td>251094</td>\n",
       "      <td>28450.0</td>\n",
       "      <td>1092200</td>\n",
       "      <td>0.75</td>\n",
       "      <td>0.060</td>\n",
       "    </tr>\n",
       "    <tr>\n",
       "      <th>2020-04-09</th>\n",
       "      <td>1512467</td>\n",
       "      <td>84172.0</td>\n",
       "      <td>7115.0</td>\n",
       "      <td>92116</td>\n",
       "      <td>276296</td>\n",
       "      <td>25202.0</td>\n",
       "      <td>1144055</td>\n",
       "      <td>0.75</td>\n",
       "      <td>0.061</td>\n",
       "    </tr>\n",
       "  </tbody>\n",
       "</table>\n",
       "</div>"
      ],
      "text/plain": [
       "            Total Confirmed Cases  Daily New Cases  Daily New Deaths  \\\n",
       "Date                                                                   \n",
       "2020-04-08                1428295          84917.0            6471.0   \n",
       "2020-04-09                1512467          84172.0            7115.0   \n",
       "\n",
       "            Total Deaths  Total Recoveries  Daily New Recoveries  \\\n",
       "Date                                                               \n",
       "2020-04-08         85001            251094               28450.0   \n",
       "2020-04-09         92116            276296               25202.0   \n",
       "\n",
       "            Active Cases  Share of Recoveries - Closed Cases  \\\n",
       "Date                                                           \n",
       "2020-04-08       1092200                                0.75   \n",
       "2020-04-09       1144055                                0.75   \n",
       "\n",
       "            Death to Cases Ratio  \n",
       "Date                              \n",
       "2020-04-08                 0.060  \n",
       "2020-04-09                 0.061  "
      ]
     },
     "execution_count": 11,
     "metadata": {},
     "output_type": "execute_result"
    }
   ],
   "source": [
    "global_totals = covid_cases.reset_index().groupby('Date').sum()\n",
    "global_totals['Share of Recoveries - Closed Cases'] = np.round(\n",
    "    global_totals['Total Recoveries'] / (global_totals['Total Recoveries'] + global_totals['Total Deaths']), 2)\n",
    "global_totals['Death to Cases Ratio'] = np.round(global_totals['Total Deaths'] / global_totals['Total Confirmed Cases'], 3)\n",
    "global_totals.tail(2)"
   ]
  },
  {
   "cell_type": "markdown",
   "metadata": {},
   "source": [
    "# Plot Global Total Cases"
   ]
  },
  {
   "cell_type": "code",
   "execution_count": 12,
   "metadata": {},
   "outputs": [
    {
     "data": {
      "text/plain": [
       "Total Confirmed Cases                 1512467.000\n",
       "Daily New Cases                         84172.000\n",
       "Daily New Deaths                         7115.000\n",
       "Total Deaths                            92116.000\n",
       "Total Recoveries                       276296.000\n",
       "Daily New Recoveries                    25202.000\n",
       "Active Cases                          1144055.000\n",
       "Share of Recoveries - Closed Cases          0.750\n",
       "Death to Cases Ratio                        0.061\n",
       "Name: 2020-04-09 00:00:00, dtype: float64"
      ]
     },
     "execution_count": 12,
     "metadata": {},
     "output_type": "execute_result"
    }
   ],
   "source": [
    "global_totals.iloc[-1]"
   ]
  },
  {
   "cell_type": "code",
   "execution_count": 13,
   "metadata": {},
   "outputs": [
    {
     "data": {
      "text/plain": [
       "<matplotlib.axes._subplots.AxesSubplot at 0x266ef364348>"
      ]
     },
     "execution_count": 13,
     "metadata": {},
     "output_type": "execute_result"
    },
    {
     "data": {
      "image/png": "[encoded data removed]",
      "text/plain": [
       "<Figure size 1080x576 with 1 Axes>"
      ]
     },
     "metadata": {},
     "output_type": "display_data"
    }
   ],
   "source": [
    "#plt.plot(GlobalTotals['Daily New Cases'])\n",
    "global_totals['Daily New Cases'].plot.bar()"
   ]
  },
  {
   "cell_type": "code",
   "execution_count": 14,
   "metadata": {},
   "outputs": [],
   "source": [
    "#plt.plot(GlobalTotals['Daily New Cases'])\n",
    "global_totals['growth'] = global_totals['Daily New Cases'] / global_totals['Active Cases']"
   ]
  },
  {
   "cell_type": "code",
   "execution_count": 15,
   "metadata": {},
   "outputs": [
    {
     "data": {
      "text/plain": [
       "<matplotlib.axes._subplots.AxesSubplot at 0x266f280e208>"
      ]
     },
     "execution_count": 15,
     "metadata": {},
     "output_type": "execute_result"
    },
    {
     "data": {
      "image/png": "[encoded data removed]",
      "text/plain": [
       "<Figure size 1080x576 with 1 Axes>"
      ]
     },
     "metadata": {},
     "output_type": "display_data"
    }
   ],
   "source": [
    "global_totals['growth'].plot.bar()"
   ]
  },
  {
   "cell_type": "markdown",
   "metadata": {},
   "source": [
    "# Explore Country Specific Data"
   ]
  },
  {
   "cell_type": "code",
   "execution_count": 16,
   "metadata": {},
   "outputs": [
    {
     "data": {
      "text/html": [
       "<div>\n",
       "<style scoped>\n",
       "    .dataframe tbody tr th:only-of-type {\n",
       "        vertical-align: middle;\n",
       "    }\n",
       "\n",
       "    .dataframe tbody tr th {\n",
       "        vertical-align: top;\n",
       "    }\n",
       "\n",
       "    .dataframe thead th {\n",
       "        text-align: right;\n",
       "    }\n",
       "</style>\n",
       "<table border=\"1\" class=\"dataframe\">\n",
       "  <thead>\n",
       "    <tr style=\"text-align: right;\">\n",
       "      <th></th>\n",
       "      <th>Total Confirmed Cases</th>\n",
       "      <th>Daily New Cases</th>\n",
       "      <th>Daily New Deaths</th>\n",
       "      <th>Total Deaths</th>\n",
       "      <th>Total Recoveries</th>\n",
       "      <th>Daily New Recoveries</th>\n",
       "      <th>Active Cases</th>\n",
       "      <th>Share of Recoveries - Closed Cases</th>\n",
       "      <th>Death to Cases Ratio</th>\n",
       "    </tr>\n",
       "    <tr>\n",
       "      <th>Date</th>\n",
       "      <th></th>\n",
       "      <th></th>\n",
       "      <th></th>\n",
       "      <th></th>\n",
       "      <th></th>\n",
       "      <th></th>\n",
       "      <th></th>\n",
       "      <th></th>\n",
       "      <th></th>\n",
       "    </tr>\n",
       "  </thead>\n",
       "  <tbody>\n",
       "    <tr>\n",
       "      <th>2020-04-05</th>\n",
       "      <td>100123</td>\n",
       "      <td>4031.0</td>\n",
       "      <td>140.0</td>\n",
       "      <td>1584</td>\n",
       "      <td>28700</td>\n",
       "      <td>2300.0</td>\n",
       "      <td>69839</td>\n",
       "      <td>0.95</td>\n",
       "      <td>0.016</td>\n",
       "    </tr>\n",
       "    <tr>\n",
       "      <th>2020-04-06</th>\n",
       "      <td>103374</td>\n",
       "      <td>3251.0</td>\n",
       "      <td>226.0</td>\n",
       "      <td>1810</td>\n",
       "      <td>28700</td>\n",
       "      <td>0.0</td>\n",
       "      <td>72864</td>\n",
       "      <td>0.94</td>\n",
       "      <td>0.018</td>\n",
       "    </tr>\n",
       "    <tr>\n",
       "      <th>2020-04-07</th>\n",
       "      <td>107663</td>\n",
       "      <td>4289.0</td>\n",
       "      <td>206.0</td>\n",
       "      <td>2016</td>\n",
       "      <td>36081</td>\n",
       "      <td>7381.0</td>\n",
       "      <td>69566</td>\n",
       "      <td>0.95</td>\n",
       "      <td>0.019</td>\n",
       "    </tr>\n",
       "    <tr>\n",
       "      <th>2020-04-08</th>\n",
       "      <td>113296</td>\n",
       "      <td>5633.0</td>\n",
       "      <td>333.0</td>\n",
       "      <td>2349</td>\n",
       "      <td>46300</td>\n",
       "      <td>10219.0</td>\n",
       "      <td>64647</td>\n",
       "      <td>0.95</td>\n",
       "      <td>0.021</td>\n",
       "    </tr>\n",
       "    <tr>\n",
       "      <th>2020-04-09</th>\n",
       "      <td>118181</td>\n",
       "      <td>4885.0</td>\n",
       "      <td>258.0</td>\n",
       "      <td>2607</td>\n",
       "      <td>52407</td>\n",
       "      <td>6107.0</td>\n",
       "      <td>63167</td>\n",
       "      <td>0.95</td>\n",
       "      <td>0.022</td>\n",
       "    </tr>\n",
       "  </tbody>\n",
       "</table>\n",
       "</div>"
      ],
      "text/plain": [
       "            Total Confirmed Cases  Daily New Cases  Daily New Deaths  \\\n",
       "Date                                                                   \n",
       "2020-04-05                 100123           4031.0             140.0   \n",
       "2020-04-06                 103374           3251.0             226.0   \n",
       "2020-04-07                 107663           4289.0             206.0   \n",
       "2020-04-08                 113296           5633.0             333.0   \n",
       "2020-04-09                 118181           4885.0             258.0   \n",
       "\n",
       "            Total Deaths  Total Recoveries  Daily New Recoveries  \\\n",
       "Date                                                               \n",
       "2020-04-05          1584             28700                2300.0   \n",
       "2020-04-06          1810             28700                   0.0   \n",
       "2020-04-07          2016             36081                7381.0   \n",
       "2020-04-08          2349             46300               10219.0   \n",
       "2020-04-09          2607             52407                6107.0   \n",
       "\n",
       "            Active Cases  Share of Recoveries - Closed Cases  \\\n",
       "Date                                                           \n",
       "2020-04-05         69839                                0.95   \n",
       "2020-04-06         72864                                0.94   \n",
       "2020-04-07         69566                                0.95   \n",
       "2020-04-08         64647                                0.95   \n",
       "2020-04-09         63167                                0.95   \n",
       "\n",
       "            Death to Cases Ratio  \n",
       "Date                              \n",
       "2020-04-05                 0.016  \n",
       "2020-04-06                 0.018  \n",
       "2020-04-07                 0.019  \n",
       "2020-04-08                 0.021  \n",
       "2020-04-09                 0.022  "
      ]
     },
     "execution_count": 16,
     "metadata": {},
     "output_type": "execute_result"
    }
   ],
   "source": [
    "germany = covid_cases.loc['Germany'].copy()\n",
    "germany.tail()"
   ]
  },
  {
   "cell_type": "code",
   "execution_count": 17,
   "metadata": {},
   "outputs": [
    {
     "data": {
      "text/html": [
       "<div>\n",
       "<style scoped>\n",
       "    .dataframe tbody tr th:only-of-type {\n",
       "        vertical-align: middle;\n",
       "    }\n",
       "\n",
       "    .dataframe tbody tr th {\n",
       "        vertical-align: top;\n",
       "    }\n",
       "\n",
       "    .dataframe thead th {\n",
       "        text-align: right;\n",
       "    }\n",
       "</style>\n",
       "<table border=\"1\" class=\"dataframe\">\n",
       "  <thead>\n",
       "    <tr style=\"text-align: right;\">\n",
       "      <th></th>\n",
       "      <th>Total Confirmed Cases</th>\n",
       "      <th>Daily New Cases</th>\n",
       "      <th>Daily New Deaths</th>\n",
       "      <th>Total Deaths</th>\n",
       "      <th>Total Recoveries</th>\n",
       "      <th>Daily New Recoveries</th>\n",
       "      <th>Active Cases</th>\n",
       "      <th>Share of Recoveries - Closed Cases</th>\n",
       "      <th>Death to Cases Ratio</th>\n",
       "    </tr>\n",
       "    <tr>\n",
       "      <th>Date</th>\n",
       "      <th></th>\n",
       "      <th></th>\n",
       "      <th></th>\n",
       "      <th></th>\n",
       "      <th></th>\n",
       "      <th></th>\n",
       "      <th></th>\n",
       "      <th></th>\n",
       "      <th></th>\n",
       "    </tr>\n",
       "  </thead>\n",
       "  <tbody>\n",
       "    <tr>\n",
       "      <th>2020-04-05</th>\n",
       "      <td>10237</td>\n",
       "      <td>81.0</td>\n",
       "      <td>6.0</td>\n",
       "      <td>183</td>\n",
       "      <td>6463</td>\n",
       "      <td>138.0</td>\n",
       "      <td>3591</td>\n",
       "      <td>0.97</td>\n",
       "      <td>0.018</td>\n",
       "    </tr>\n",
       "    <tr>\n",
       "      <th>2020-04-06</th>\n",
       "      <td>10284</td>\n",
       "      <td>47.0</td>\n",
       "      <td>3.0</td>\n",
       "      <td>186</td>\n",
       "      <td>6598</td>\n",
       "      <td>135.0</td>\n",
       "      <td>3500</td>\n",
       "      <td>0.97</td>\n",
       "      <td>0.018</td>\n",
       "    </tr>\n",
       "    <tr>\n",
       "      <th>2020-04-07</th>\n",
       "      <td>10331</td>\n",
       "      <td>47.0</td>\n",
       "      <td>6.0</td>\n",
       "      <td>192</td>\n",
       "      <td>6694</td>\n",
       "      <td>96.0</td>\n",
       "      <td>3445</td>\n",
       "      <td>0.97</td>\n",
       "      <td>0.019</td>\n",
       "    </tr>\n",
       "    <tr>\n",
       "      <th>2020-04-08</th>\n",
       "      <td>10384</td>\n",
       "      <td>53.0</td>\n",
       "      <td>8.0</td>\n",
       "      <td>200</td>\n",
       "      <td>6776</td>\n",
       "      <td>82.0</td>\n",
       "      <td>3408</td>\n",
       "      <td>0.97</td>\n",
       "      <td>0.019</td>\n",
       "    </tr>\n",
       "    <tr>\n",
       "      <th>2020-04-09</th>\n",
       "      <td>10423</td>\n",
       "      <td>39.0</td>\n",
       "      <td>4.0</td>\n",
       "      <td>204</td>\n",
       "      <td>6973</td>\n",
       "      <td>197.0</td>\n",
       "      <td>3246</td>\n",
       "      <td>0.97</td>\n",
       "      <td>0.020</td>\n",
       "    </tr>\n",
       "  </tbody>\n",
       "</table>\n",
       "</div>"
      ],
      "text/plain": [
       "            Total Confirmed Cases  Daily New Cases  Daily New Deaths  \\\n",
       "Date                                                                   \n",
       "2020-04-05                  10237             81.0               6.0   \n",
       "2020-04-06                  10284             47.0               3.0   \n",
       "2020-04-07                  10331             47.0               6.0   \n",
       "2020-04-08                  10384             53.0               8.0   \n",
       "2020-04-09                  10423             39.0               4.0   \n",
       "\n",
       "            Total Deaths  Total Recoveries  Daily New Recoveries  \\\n",
       "Date                                                               \n",
       "2020-04-05           183              6463                 138.0   \n",
       "2020-04-06           186              6598                 135.0   \n",
       "2020-04-07           192              6694                  96.0   \n",
       "2020-04-08           200              6776                  82.0   \n",
       "2020-04-09           204              6973                 197.0   \n",
       "\n",
       "            Active Cases  Share of Recoveries - Closed Cases  \\\n",
       "Date                                                           \n",
       "2020-04-05          3591                                0.97   \n",
       "2020-04-06          3500                                0.97   \n",
       "2020-04-07          3445                                0.97   \n",
       "2020-04-08          3408                                0.97   \n",
       "2020-04-09          3246                                0.97   \n",
       "\n",
       "            Death to Cases Ratio  \n",
       "Date                              \n",
       "2020-04-05                 0.018  \n",
       "2020-04-06                 0.018  \n",
       "2020-04-07                 0.019  \n",
       "2020-04-08                 0.019  \n",
       "2020-04-09                 0.020  "
      ]
     },
     "execution_count": 17,
     "metadata": {},
     "output_type": "execute_result"
    }
   ],
   "source": [
    "south_korea = covid_cases.loc['Korea, South'].copy()\n",
    "south_korea.tail()"
   ]
  },
  {
   "cell_type": "code",
   "execution_count": 18,
   "metadata": {},
   "outputs": [
    {
     "data": {
      "text/plain": [
       "<matplotlib.axes._subplots.AxesSubplot at 0x266f26fa488>"
      ]
     },
     "execution_count": 18,
     "metadata": {},
     "output_type": "execute_result"
    },
    {
     "data": {
      "image/png": "[encoded data removed]",
      "text/plain": [
       "<Figure size 1080x576 with 1 Axes>"
      ]
     },
     "metadata": {},
     "output_type": "display_data"
    }
   ],
   "source": [
    "germany['Total Confirmed Cases'].loc['03-06-2020':].plot.bar()"
   ]
  },
  {
   "cell_type": "code",
   "execution_count": 19,
   "metadata": {},
   "outputs": [
    {
     "data": {
      "text/plain": [
       "<matplotlib.axes._subplots.AxesSubplot at 0x266f2721ac8>"
      ]
     },
     "execution_count": 19,
     "metadata": {},
     "output_type": "execute_result"
    },
    {
     "data": {
      "image/png": "[encoded data removed]",
      "text/plain": [
       "<Figure size 1080x576 with 1 Axes>"
      ]
     },
     "metadata": {},
     "output_type": "display_data"
    }
   ],
   "source": [
    "south_korea['Total Confirmed Cases'].loc['02-20-2020':].plot.bar()"
   ]
  },
  {
   "cell_type": "code",
   "execution_count": 20,
   "metadata": {},
   "outputs": [
    {
     "data": {
      "text/plain": [
       "<matplotlib.axes._subplots.AxesSubplot at 0x266f26f59c8>"
      ]
     },
     "execution_count": 20,
     "metadata": {},
     "output_type": "execute_result"
    },
    {
     "data": {
      "image/png": "[encoded data removed]",
      "text/plain": [
       "<Figure size 1080x576 with 1 Axes>"
      ]
     },
     "metadata": {},
     "output_type": "display_data"
    }
   ],
   "source": [
    "germany['Active Cases'].loc['03-06-2020':].plot.bar()"
   ]
  },
  {
   "cell_type": "code",
   "execution_count": 21,
   "metadata": {},
   "outputs": [
    {
     "data": {
      "text/plain": [
       "<matplotlib.axes._subplots.AxesSubplot at 0x266f2ef2348>"
      ]
     },
     "execution_count": 21,
     "metadata": {},
     "output_type": "execute_result"
    },
    {
     "data": {
      "image/png": "[encoded data removed]",
      "text/plain": [
       "<Figure size 1080x576 with 1 Axes>"
      ]
     },
     "metadata": {},
     "output_type": "display_data"
    }
   ],
   "source": [
    "south_korea['Active Cases'].loc['02-20-2020':].plot.bar()"
   ]
  },
  {
   "cell_type": "code",
   "execution_count": 22,
   "metadata": {},
   "outputs": [
    {
     "data": {
      "text/plain": [
       "<matplotlib.axes._subplots.AxesSubplot at 0x266f3024308>"
      ]
     },
     "execution_count": 22,
     "metadata": {},
     "output_type": "execute_result"
    },
    {
     "data": {
      "image/png": "[encoded data removed]",
      "text/plain": [
       "<Figure size 1080x576 with 1 Axes>"
      ]
     },
     "metadata": {},
     "output_type": "display_data"
    }
   ],
   "source": [
    "germany['Daily New Cases'].loc['03-06-2020':].plot.bar()"
   ]
  },
  {
   "cell_type": "code",
   "execution_count": 23,
   "metadata": {},
   "outputs": [
    {
     "data": {
      "text/plain": [
       "<matplotlib.axes._subplots.AxesSubplot at 0x266f2eedc08>"
      ]
     },
     "execution_count": 23,
     "metadata": {},
     "output_type": "execute_result"
    },
    {
     "data": {
      "image/png": "[encoded data removed]",
      "text/plain": [
       "<Figure size 1080x576 with 1 Axes>"
      ]
     },
     "metadata": {},
     "output_type": "display_data"
    }
   ],
   "source": [
    "south_korea['Daily New Cases'].iloc[-38:].plot.bar()"
   ]
  },
  {
   "cell_type": "code",
   "execution_count": 24,
   "metadata": {},
   "outputs": [],
   "source": [
    "germany['growth rate'] = germany['Daily New Cases'] / germany['Active Cases']"
   ]
  },
  {
   "cell_type": "code",
   "execution_count": 25,
   "metadata": {},
   "outputs": [
    {
     "data": {
      "text/plain": [
       "45"
      ]
     },
     "execution_count": 25,
     "metadata": {},
     "output_type": "execute_result"
    }
   ],
   "source": [
    "start_date = '02-25-2020'\n",
    "past_window = len(germany) - germany['growth rate'].index.get_loc(start_date)\n",
    "past_window"
   ]
  },
  {
   "cell_type": "code",
   "execution_count": 26,
   "metadata": {},
   "outputs": [],
   "source": [
    "#past_window = 45"
   ]
  },
  {
   "cell_type": "code",
   "execution_count": 27,
   "metadata": {},
   "outputs": [],
   "source": [
    "germany_growth_moving_average = germany['growth rate'].iloc[-past_window:].rolling(window=3).mean()\n",
    "germany_growth_ema = germany['growth rate'].iloc[-past_window:].ewm(span=6,adjust=False).mean()"
   ]
  },
  {
   "cell_type": "code",
   "execution_count": 28,
   "metadata": {},
   "outputs": [
    {
     "data": {
      "text/plain": [
       "Text(0.5, 1.0, 'Growth = Daily New Cases / Active Cases')"
      ]
     },
     "execution_count": 28,
     "metadata": {},
     "output_type": "execute_result"
    },
    {
     "data": {
      "image/png": "[encoded data removed]",
      "text/plain": [
       "<Figure size 1080x576 with 1 Axes>"
      ]
     },
     "metadata": {},
     "output_type": "display_data"
    }
   ],
   "source": [
    "plt.bar(germany.iloc[-past_window:].index, germany['growth rate'].iloc[-past_window:], label='Growth Rate Germany')\n",
    "#plt.plot(germany_growth_moving_average.index, germany_growth_moving_average, label='Moving Average', color='red')\n",
    "plt.plot(germany_growth_ema.index, germany_growth_ema, label='Exponential Moving Average', color='red')\n",
    "\n",
    "plt.legend(loc='best')\n",
    "plt.title('Growth = Daily New Cases / Active Cases')"
   ]
  },
  {
   "cell_type": "code",
   "execution_count": 29,
   "metadata": {},
   "outputs": [
    {
     "data": {
      "text/plain": [
       "Date\n",
       "2020-03-31    0.089618\n",
       "2020-04-01    0.104099\n",
       "2020-04-02    0.113018\n",
       "2020-04-03    0.097460\n",
       "2020-04-04    0.072281\n",
       "2020-04-05    0.057718\n",
       "2020-04-06    0.044617\n",
       "2020-04-07    0.061654\n",
       "2020-04-08    0.087135\n",
       "2020-04-09    0.077335\n",
       "Name: growth rate, dtype: float64"
      ]
     },
     "execution_count": 29,
     "metadata": {},
     "output_type": "execute_result"
    }
   ],
   "source": [
    "germany['growth rate'].tail(10)"
   ]
  },
  {
   "cell_type": "code",
   "execution_count": 30,
   "metadata": {},
   "outputs": [],
   "source": [
    "south_korea['growth rate'] = south_korea['Daily New Cases'] / south_korea['Active Cases']"
   ]
  },
  {
   "cell_type": "code",
   "execution_count": 31,
   "metadata": {},
   "outputs": [
    {
     "data": {
      "text/plain": [
       "<matplotlib.axes._subplots.AxesSubplot at 0x266f3d00c08>"
      ]
     },
     "execution_count": 31,
     "metadata": {},
     "output_type": "execute_result"
    },
    {
     "data": {
      "image/png": "[encoded data removed]",
      "text/plain": [
       "<Figure size 1080x576 with 1 Axes>"
      ]
     },
     "metadata": {},
     "output_type": "display_data"
    }
   ],
   "source": [
    "south_korea['growth rate'].iloc[-38:].plot.bar()"
   ]
  },
  {
   "cell_type": "code",
   "execution_count": 32,
   "metadata": {},
   "outputs": [
    {
     "data": {
      "text/plain": [
       "Date\n",
       "2020-03-31    0.029649\n",
       "2020-04-01    0.024308\n",
       "2020-04-02    0.022367\n",
       "2020-04-03    0.022239\n",
       "2020-04-04    0.025725\n",
       "2020-04-05    0.022556\n",
       "2020-04-06    0.013429\n",
       "2020-04-07    0.013643\n",
       "2020-04-08    0.015552\n",
       "2020-04-09    0.012015\n",
       "Name: growth rate, dtype: float64"
      ]
     },
     "execution_count": 32,
     "metadata": {},
     "output_type": "execute_result"
    }
   ],
   "source": [
    "south_korea['growth rate'].tail(10)"
   ]
  }
 ],
 "metadata": {
  "kernelspec": {
   "display_name": "Python 3",
   "language": "python",
   "name": "python3"
  },
  "language_info": {
   "codemirror_mode": {
    "name": "ipython",
    "version": 3
   },
   "file_extension": ".py",
   "mimetype": "text/x-python",
   "name": "python",
   "nbconvert_exporter": "python",
   "pygments_lexer": "ipython3",
   "version": "3.7.7"
  }
 },
 "nbformat": 4,
 "nbformat_minor": 2
}
